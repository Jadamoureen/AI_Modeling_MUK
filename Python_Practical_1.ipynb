{
  "nbformat": 4,
  "nbformat_minor": 0,
  "metadata": {
    "colab": {
      "provenance": [],
      "include_colab_link": true
    },
    "kernelspec": {
      "name": "python3",
      "display_name": "Python 3"
    },
    "language_info": {
      "name": "python"
    }
  },
  "cells": [
    {
      "cell_type": "markdown",
      "metadata": {
        "id": "view-in-github",
        "colab_type": "text"
      },
      "source": [
        "<a href=\"https://colab.research.google.com/github/Jadamoureen/AI_statical_modelling/blob/main/Python_Practical_1.ipynb\" target=\"_parent\"><img src=\"https://colab.research.google.com/assets/colab-badge.svg\" alt=\"Open In Colab\"/></a>"
      ]
    },
    {
      "cell_type": "markdown",
      "source": [
        "# **Python Programming for Machine Learning**"
      ],
      "metadata": {
        "id": "qHOOObDwMfkc"
      }
    },
    {
      "cell_type": "markdown",
      "source": [
        "**Guidelines:**\n",
        "\n",
        "Save a copy of this Notebook to your drive and work and share after to your github account.\n",
        "\n",
        "Powerpoint: [Download](https://drive.google.com/file/d/1ut8RJ44qjfM4uSX9QyKZ4dIO2AzKPNun/view?usp=share_link)\n",
        "\n",
        "1. Read the instructions carefully before attempting each exercise.\n",
        "2. Make sure to test your code with different input values to ensure it works as expected.\n",
        "3. Use appropriate variable names and comments to make your code easy to understand.\n",
        "4. If you're unsure how to solve an exercise, try breaking it down into smaller parts and tackling each part separately.\n",
        "5. Feel free to use online resources or ask for help if you get stuck.\n",
        "\n",
        "\n",
        "\n",
        "**Warnings:**\n",
        "\n",
        "1. Be careful when using user input, as it may not always be in the expected format. Make sure to handle errors and invalid input appropriately.\n",
        "\n",
        "2. When working with floats, be aware that floating point arithmetic can sometimes result in rounding errors or unexpected behavior.\n",
        "Be careful when swapping values in Exercise 8, as you may accidentally overwrite one of the values.\n",
        "\n",
        "3. When checking if a string contains a certain substring in Exercise 14, be aware that the function you use may be case-sensitive.\n",
        "\n",
        "4. Be careful when checking if the difference of two floats is less than a threshold in Exercise 13, as floating point arithmetic may result in unexpected behavior.\n",
        "\n",
        "5. Comment on your work for better understanding."
      ],
      "metadata": {
        "id": "0ipwIDxyLzEN"
      }
    },
    {
      "cell_type": "markdown",
      "source": [
        "\n",
        "###Write a program that takes an integer input from the user and prints out its square."
      ],
      "metadata": {
        "id": "0DjsAF5JMpI4"
      }
    },
    {
      "cell_type": "code",
      "source": [
        "#Input for the user\n",
        "\n",
        "integer_input = int(input(\"Enter an interger:\"))\n",
        "\n",
        "#the square of input\n",
        "\n",
        "square = integer_input ** 2\n",
        "\n",
        "#printing the square\n",
        "print('The square of', integer_input,'is',square)"
      ],
      "metadata": {
        "colab": {
          "base_uri": "https://localhost:8080/"
        },
        "id": "Ow3LEPiPEUFt",
        "outputId": "400680a6-9f9f-446a-d8ea-648a295e9d91"
      },
      "execution_count": 10,
      "outputs": [
        {
          "output_type": "stream",
          "name": "stdout",
          "text": [
            "Enter an interger:64\n",
            "The square of 64 is 4096\n"
          ]
        }
      ]
    },
    {
      "cell_type": "markdown",
      "source": [
        "###Write a program that takes two integer inputs from the user and prints out their sum, difference, product, and quotient."
      ],
      "metadata": {
        "id": "Tj6gWJ-TMv66"
      }
    },
    {
      "cell_type": "markdown",
      "source": [
        "- integer input - input()\n",
        "\n",
        "- sum - sum()\n",
        "- difference - -\n",
        "- product - *\n",
        "- Quotient - /\n",
        "- print - print()"
      ],
      "metadata": {
        "id": "Nszq0MF5G_wi"
      }
    },
    {
      "cell_type": "code",
      "source": [
        "#  Input of two integers\n",
        "\n",
        "first_integer = int(input(\"Enter an integer:\"))\n",
        "second_integer = int(input(\"Enter an integer:\"))\n",
        "\n",
        "# Calculating the sum, difference, product and quotient\n",
        "\n",
        "sum = first_integer + second_integer\n",
        "difference = first_integer - second_integer\n",
        "product = first_integer * second_integer\n",
        "quotient = first_integer / second_integer\n",
        "\n",
        "#Printing the results \n",
        "print(\"The Sum is:\",sum)\n",
        "print(\"The Difference is:\",difference)\n",
        "print(\"The Product is:\", product)\n",
        "print(\"The Quotient is:\", quotient)\n"
      ],
      "metadata": {
        "id": "R3nFL2ubG2no",
        "outputId": "bacd9622-a945-49f0-cc30-254b3dc4be37",
        "colab": {
          "base_uri": "https://localhost:8080/"
        }
      },
      "execution_count": 11,
      "outputs": [
        {
          "output_type": "stream",
          "name": "stdout",
          "text": [
            "Enter an integer:8\n",
            "Enter an integer:4\n",
            "The Sum is: 12\n",
            "The Difference is: 4\n",
            "The Product is: 32\n",
            "The Quotient is: 2.0\n"
          ]
        }
      ]
    },
    {
      "cell_type": "markdown",
      "source": [
        "###Write a program that takes a float input from the user and rounds it to the nearest integer."
      ],
      "metadata": {
        "id": "XPwkKeBzMzwy"
      }
    },
    {
      "cell_type": "code",
      "source": [
        "#Input for the user\n",
        "\n",
        "float_input = float(input(\"Enter an float:\"))\n",
        "\n",
        "#rounding the float \n",
        "rounded = round(float_input)\n",
        "\n",
        "#printing \n",
        "print(\"rounded:\", rounded )"
      ],
      "metadata": {
        "id": "ql1xovVHK7ko",
        "outputId": "7be7a496-270e-4f35-cea1-10bf633b8631",
        "colab": {
          "base_uri": "https://localhost:8080/"
        }
      },
      "execution_count": 12,
      "outputs": [
        {
          "output_type": "stream",
          "name": "stdout",
          "text": [
            "Enter an float:25.50\n",
            "rounded: 26\n"
          ]
        }
      ]
    },
    {
      "cell_type": "markdown",
      "source": [
        "###Write a program that takes a string input from the user and prints out its length."
      ],
      "metadata": {
        "id": "e8xEiTPqNEf7"
      }
    },
    {
      "cell_type": "code",
      "source": [
        "#Input from the user \n",
        "string_input = input(\"Enter a string: \")\n",
        "\n",
        "#length of the string \n",
        "length = len(string_input)\n",
        "\n",
        "#printing \n",
        "print(\"The length of the string input is:\", length)"
      ],
      "metadata": {
        "id": "NUdIfO8hMAZd",
        "outputId": "55b6861f-77f7-4527-f8c7-fd791b10f67f",
        "colab": {
          "base_uri": "https://localhost:8080/"
        }
      },
      "execution_count": 13,
      "outputs": [
        {
          "output_type": "stream",
          "name": "stdout",
          "text": [
            "Enter a string: Moureen\n",
            "The length of the string input is: 7\n"
          ]
        }
      ]
    },
    {
      "cell_type": "markdown",
      "source": [
        "###Write a program that takes a string input from the user and prints out its first and last characters."
      ],
      "metadata": {
        "id": "Q6uZ4OQbNIZS"
      }
    },
    {
      "cell_type": "markdown",
      "source": [
        "Moureen \n",
        "index - 0,1,2,3,4,\n",
        "\n",
        "[0]-M\n",
        "[1] - o\n",
        "[2] - u\n",
        "[3] - r\n",
        "[4] - e\n",
        "[5] - e\n",
        "[6] - n\n",
        "\n",
        "index(n)\n",
        "\n",
        "[-1] - last character"
      ],
      "metadata": {
        "id": "7jb2-JgOOACz"
      }
    },
    {
      "cell_type": "code",
      "source": [
        "#Input from the user \n",
        "string_input = input(\"Enter a string: \")\n",
        "\n",
        "#first and last characters \n",
        "first_character = string_input[0]\n",
        "last_character = string_input[-1]\n",
        "\n",
        "#printing \n",
        "print(\"The First character:\",first_character)\n",
        "print(\"The Last character:\",last_character) "
      ],
      "metadata": {
        "id": "veDAtYfkNYtS",
        "outputId": "5a582e3d-fd2b-4bcf-b3e4-8514c0a28667",
        "colab": {
          "base_uri": "https://localhost:8080/"
        }
      },
      "execution_count": 14,
      "outputs": [
        {
          "output_type": "stream",
          "name": "stdout",
          "text": [
            "Enter a string: Moureen\n",
            "The First character: M\n",
            "The Last character: n\n"
          ]
        }
      ]
    },
    {
      "cell_type": "markdown",
      "source": [
        "###Write a program that takes two string inputs from the user and concatenates them."
      ],
      "metadata": {
        "id": "WCHim8cENMaS"
      }
    },
    {
      "cell_type": "code",
      "source": [
        "#Input from the user \n",
        "first_string = input(\"Enter the first string: \")\n",
        "second_string = input(\"Enter the second string: \")\n",
        "\n",
        "#Concatenating in code editors  + \" \" +\n",
        "#Concatenating the two strings +\n",
        "concatenated_string = first_string +\" \" + second_string\n",
        "\n",
        "#printing \n",
        "print(\"The concatenated string:\",concatenated_string)\n",
        "\n",
        "\n"
      ],
      "metadata": {
        "colab": {
          "base_uri": "https://localhost:8080/"
        },
        "id": "ZZwKYnkVTiy-",
        "outputId": "29296925-6628-413d-f6ce-c2ac85849c2d"
      },
      "execution_count": 16,
      "outputs": [
        {
          "output_type": "stream",
          "name": "stdout",
          "text": [
            "Enter the first string: Moureen\n",
            "Enter the second string: Caroline\n",
            "The concatenated string: Moureen Caroline\n"
          ]
        }
      ]
    },
    {
      "cell_type": "markdown",
      "source": [
        "###Write a program that takes a string input from the user and prints out each character on a new line."
      ],
      "metadata": {
        "id": "0MHCi7DHNPzK"
      }
    },
    {
      "cell_type": "code",
      "source": [
        "#Input from the user \n",
        "string_input = input(\"Enter a string: \")\n",
        "\n",
        "#printing each character \n",
        "#for loop\n",
        "for character in string_input:#character and string_input are variables\n",
        "  print(character)"
      ],
      "metadata": {
        "colab": {
          "base_uri": "https://localhost:8080/"
        },
        "id": "77VTrZTyVvjv",
        "outputId": "875ae00c-4814-4eec-db21-abcbc94ae912"
      },
      "execution_count": 17,
      "outputs": [
        {
          "output_type": "stream",
          "name": "stdout",
          "text": [
            "Enter a string: Moureen\n",
            "M\n",
            "o\n",
            "u\n",
            "r\n",
            "e\n",
            "e\n",
            "n\n"
          ]
        }
      ]
    },
    {
      "cell_type": "markdown",
      "source": [
        "###Write a program that takes two integer inputs from the user and swaps their values."
      ],
      "metadata": {
        "id": "R9He6vFCNUsa"
      }
    },
    {
      "cell_type": "code",
      "source": [
        "#Input from the user \n",
        "first_integer = int(input(\"Enter first integer: \"))\n",
        "second_integer = int(input(\"Enter second integer: \"))\n",
        "\n",
        "#Swapping the values of the two integers using temporary variable\n",
        "temp = first_integer\n",
        "first_integer = second_integer\n",
        "second_integer = temp\n",
        "\n",
        "#printing the swapped values \n",
        "\n",
        "print(\"After swapping:\")\n",
        "print(\"First integer:\",first_integer)\n",
        "print(\"Second integer:\",second_integer)"
      ],
      "metadata": {
        "colab": {
          "base_uri": "https://localhost:8080/"
        },
        "id": "dl2dIq8_VWdx",
        "outputId": "81407f7d-2b19-4cfd-cc75-f79ca82a99f0"
      },
      "execution_count": 18,
      "outputs": [
        {
          "output_type": "stream",
          "name": "stdout",
          "text": [
            "Enter first integer: 12\n",
            "Enter second integer: 24\n",
            "After swapping:\n",
            "First integer: 24\n",
            "Second integer: 12\n"
          ]
        }
      ]
    },
    {
      "cell_type": "markdown",
      "source": [
        "###Write a program that takes a string input from the user and converts it to an integer."
      ],
      "metadata": {
        "id": "YXEHiJOxNcLC"
      }
    },
    {
      "cell_type": "code",
      "source": [
        "from ctypes import string_at\n",
        "#Input from the user \n",
        "string_input = input(\"Enter a string: \")\n",
        "\n",
        "#Converting the string into an integer\n",
        "integer_input = int(string_input)\n",
        "\n",
        "#printing \n",
        "print(\"The converted string:\",integer_input)"
      ],
      "metadata": {
        "id": "Nyu5jmEaNf-k",
        "colab": {
          "base_uri": "https://localhost:8080/"
        },
        "outputId": "2bfb1170-4348-4e4e-c40d-8188cf462e86"
      },
      "execution_count": 19,
      "outputs": [
        {
          "output_type": "stream",
          "name": "stdout",
          "text": [
            "Enter a string: 222\n",
            "The converted string: 222\n"
          ]
        }
      ]
    },
    {
      "cell_type": "code",
      "source": [
        "#string \n",
        "string_num = (\"222\")\n",
        "\n",
        "#Converting the string into an integer\n",
        "integer_input = int(string_num)\n",
        "\n",
        "#printing \n",
        "print(\"The converted string:\",integer_input)"
      ],
      "metadata": {
        "colab": {
          "base_uri": "https://localhost:8080/"
        },
        "id": "-MKfSbG3Zmjw",
        "outputId": "44e009b3-1589-44d0-e23a-0966e431b99d"
      },
      "execution_count": 20,
      "outputs": [
        {
          "output_type": "stream",
          "name": "stdout",
          "text": [
            "The converted string: 222\n"
          ]
        }
      ]
    },
    {
      "cell_type": "markdown",
      "source": [
        "Write a program that takes a string input from the user and checks if it is a palindrome (i.e., reads the same forwards and backwards)."
      ],
      "metadata": {
        "id": "c2H8oFf-NgTq"
      }
    },
    {
      "cell_type": "markdown",
      "source": [
        "A **palindrome** is a word, phrase, or sequence of characters that reads the same backward as forward. For example, \"level\", \"deified\", and \"racecar\" are all palindromes.\n",
        "\n",
        "To check if a given string is a palindrome, we need to compare it with its reverse. If the string and its reverse are the same, then the string is a palindrome. ***For example, if we take the string \"radar\", its reverse is \"radar***\". Since the string and its reverse are the same, \"radar\" is a palindrome.\n",
        "\n",
        "In Python, **we can check if a string is a palindrome by reversing the string and comparing it with the original string. We can reverse a string using slicing with a step of -1. If the reversed string is the same as the original string, then the string is a palindrome. If the reversed string is not the same as the original string, then the string is not a palindrome.**"
      ],
      "metadata": {
        "id": "QdreDzKx6smA"
      }
    },
    {
      "cell_type": "code",
      "source": [
        "#Input from the user \n",
        "string_input = input(\"Enter a string: \")\n",
        "\n",
        "# Reversing the string\n",
        "reverse_string = string_input[::-1]\n",
        "\n",
        "# Checking if the string is a palindrome\n",
        "if string_input == reverse_string:\n",
        "    print(\"The string is a palindrome.\")\n",
        "else:\n",
        "    print(\"The string is not a palindrome.\")\n",
        "\n"
      ],
      "metadata": {
        "id": "Uf4XGyVMNjT6",
        "colab": {
          "base_uri": "https://localhost:8080/"
        },
        "outputId": "956028c3-ac91-480d-9dfc-6d9400622d27"
      },
      "execution_count": 5,
      "outputs": [
        {
          "output_type": "stream",
          "name": "stdout",
          "text": [
            "Enter a string: TOT\n",
            "The string is a palindrome.\n"
          ]
        }
      ]
    },
    {
      "cell_type": "markdown",
      "source": [
        "###Write a program that takes two integer inputs from the user and checks if they are equal."
      ],
      "metadata": {
        "id": "p43L90sYNjpy"
      }
    },
    {
      "cell_type": "code",
      "source": [
        "# Input from the user\n",
        "num1 = int(input(\"Enter the first integer: \"))\n",
        "num2 = int(input(\"Enter the second integer: \"))\n",
        "\n",
        "# Checking if the numbers are equal\n",
        "if num1 == num2:\n",
        "    print(\"The two numbers are equal.\")\n",
        "else:\n",
        "    print(\"The two numbers are not equal.\")"
      ],
      "metadata": {
        "colab": {
          "base_uri": "https://localhost:8080/"
        },
        "id": "VAqY8mqn-CKs",
        "outputId": "0bb1af1a-33f7-4e6d-82db-73f2e70a3688"
      },
      "execution_count": 21,
      "outputs": [
        {
          "output_type": "stream",
          "name": "stdout",
          "text": [
            "Enter the first integer: 24\n",
            "Enter the second integer: 22\n",
            "The two numbers are not equal.\n"
          ]
        }
      ]
    },
    {
      "cell_type": "markdown",
      "source": [
        "###Write a program that takes two float inputs from the user and checks if their difference is less than a certain threshold (e.g., 0.0001)."
      ],
      "metadata": {
        "id": "ZuuprAScNqLL"
      }
    },
    {
      "cell_type": "code",
      "source": [
        "# Input from the user\n",
        "num1 = float(input(\"Enter the first float: \"))\n",
        "num2 = float(input(\"Enter the second float: \"))\n",
        "\n",
        "# Setting a threshold value\n",
        "threshold = 0.0001\n",
        "\n",
        "# Checking if the difference is less than the threshold\n",
        "if abs(num1 - num2) < threshold:\n",
        "    print(\"The difference between the two numbers is less than the threshold.\")\n",
        "else:\n",
        "    print(\"The difference between the two numbers is greater than or equal to the threshold.\")"
      ],
      "metadata": {
        "id": "ta8ZaS34NsiT",
        "colab": {
          "base_uri": "https://localhost:8080/"
        },
        "outputId": "e9d07914-07c0-4b6b-d187-e181d1ac2ada"
      },
      "execution_count": 7,
      "outputs": [
        {
          "output_type": "stream",
          "name": "stdout",
          "text": [
            "Enter the first float: 25.5\n",
            "Enter the second float: 35.5\n",
            "The difference between the two numbers is greater than or equal to the threshold.\n"
          ]
        }
      ]
    },
    {
      "cell_type": "markdown",
      "source": [
        "###Write a program that takes a string input from the user and checks if it contains a certain substring."
      ],
      "metadata": {
        "id": "8PJP2VF_Ns7j"
      }
    },
    {
      "cell_type": "code",
      "source": [
        "# Input from the user\n",
        "string = input(\"Enter a string: \")\n",
        "\n",
        "# substring from the user\n",
        "substring = input(\"Enter a substring to check: \")\n",
        "\n",
        "# Checking if the substring is present in the string\n",
        "if substring in string:\n",
        "    print(\"The substring is present in the string.\")\n",
        "else:\n",
        "    print(\"The substring is not present in the string.\")"
      ],
      "metadata": {
        "id": "ndlPeGR9NvHa",
        "colab": {
          "base_uri": "https://localhost:8080/"
        },
        "outputId": "fe2f5e7f-d627-420f-d8fc-abaed3addb73"
      },
      "execution_count": 9,
      "outputs": [
        {
          "output_type": "stream",
          "name": "stdout",
          "text": [
            "Enter a string: Moureen\n",
            "Enter a substring to check: Momo\n",
            "The substring is not present in the string.\n"
          ]
        }
      ]
    },
    {
      "cell_type": "markdown",
      "source": [
        "###Write a program that takes two integer inputs from the user and checks if their sum is even."
      ],
      "metadata": {
        "id": "T60nqIoJNvhr"
      }
    },
    {
      "cell_type": "code",
      "source": [
        "# Input from the user\n",
        "num1 = int(input(\"Enter the first integer: \"))\n",
        "num2 = int(input(\"Enter the second integer: \"))\n",
        "\n",
        "# Checking if the sum is even\n",
        "if (num1 + num2) % 2 == 0:\n",
        "    print(\"The sum of the two numbers is even.\")\n",
        "else:\n",
        "    print(\"The sum of the two numbers is odd.\")"
      ],
      "metadata": {
        "id": "R7ct0p1_OFOj",
        "colab": {
          "base_uri": "https://localhost:8080/"
        },
        "outputId": "c94dac14-460f-4838-c706-189c372e2384"
      },
      "execution_count": 22,
      "outputs": [
        {
          "output_type": "stream",
          "name": "stdout",
          "text": [
            "Enter the first integer: 8\n",
            "Enter the second integer: 6\n",
            "The sum of the two numbers is even.\n"
          ]
        }
      ]
    }
  ]
}