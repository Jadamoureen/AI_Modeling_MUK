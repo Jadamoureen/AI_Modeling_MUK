{
  "nbformat": 4,
  "nbformat_minor": 0,
  "metadata": {
    "colab": {
      "provenance": [],
      "authorship_tag": "ABX9TyNSzt8RKogjvRtcKDfliBgg",
      "include_colab_link": true
    },
    "kernelspec": {
      "name": "python3",
      "display_name": "Python 3"
    },
    "language_info": {
      "name": "python"
    }
  },
  "cells": [
    {
      "cell_type": "markdown",
      "metadata": {
        "id": "view-in-github",
        "colab_type": "text"
      },
      "source": [
        "<a href=\"https://colab.research.google.com/github/Jadamoureen/AI_Modeling_MUK/blob/main/Python_Practical_Exercise1.ipynb\" target=\"_parent\"><img src=\"https://colab.research.google.com/assets/colab-badge.svg\" alt=\"Open In Colab\"/></a>"
      ]
    },
    {
      "cell_type": "markdown",
      "source": [
        "**Task:**\n",
        "\n",
        "\n",
        "Define a program that will calculate the area of different shapes based on user input. The program\n",
        "will prompt the user to **choose a shape from 'S' for square, 'R' for rectangle, and 'C' for circle.**\n",
        "Based on the user's input, the program will prompt the user to enter the relevant dimensions of the\n",
        "selected shape. For square, the program will prompt for the length of the side, for a rectangle, the\n",
        "program will prompt for the length and width of the shape, and for a circle, the program will\n",
        "prompt for the radius.\n",
        "\n",
        "The program will then calculate the area of the selected shape using the relevant formulae.\n",
        "Finally, the program will output the calculated area.\n",
        "The program consists of several functions:\n",
        "\n",
        "**calculate_area(shape)** - This function takes the shape as input and returns the calculated area\n",
        "based on the selected shape. It calls the relevant function to calculate the area of the shape based\n",
        "on the input.\n",
        "\n",
        "**calculate_square_area(side: float)** - This function calculates the area of a square based on the\n",
        "given side.\n",
        "\n",
        "**calculate_rectangle_area(length: float, width: float)** - This function calculates the area of a\n",
        "rectangle based on the given length and width.\n",
        "\n",
        "**calculate_circle_area(radius: float)** - This function calculates the area of a circle based on the\n",
        "given radius.\n",
        "\n",
        "**get_shape_name(tag)** - This function returns the name of the selected shape based on the user's\n",
        "input.\n",
        "\n",
        "The program begins by printing a header, prompting the user to select a shape. The user is then\n",
        "prompted to input the relevant dimensions of the selected shape. The program then calls the\n",
        "relevant function to calculate the area of the selected shape and outputs the calculated area. "
      ],
      "metadata": {
        "id": "3FJ4GYq92mMl"
      }
    },
    {
      "cell_type": "markdown",
      "source": [
        "- User input function\n",
        "- shapes ; C,S,R\n",
        "- length of the side of S or R\n",
        "- Radius of the circle\n",
        "- calculate_area(shape)\n",
        "- calculate_square_area(side:float)\n",
        "- calculate_rectangle_area(length:float,width:float)\n",
        "- calculate_circle_area(radius:float)\n",
        "- get_shape_name(tag)"
      ],
      "metadata": {
        "id": "tJoJn-Eh4Lk9"
      }
    },
    {
      "cell_type": "code",
      "source": [
        "# importing math library\n",
        "import math \n",
        "\n",
        "# defining functions\n",
        "def calculate_area(shape):\n",
        "  if shape == 'S':\n",
        "    return calculate_square_area()\n",
        "  elif shape == 'R':\n",
        "    return calculate_rectangle_area()\n",
        "  elif shape == 'C':\n",
        "    return calculate_circle_area()\n",
        "  else:\n",
        "    return None\n",
        "\n",
        "# calculating the areas of the shapes\n",
        "\n",
        "def calculate_square_area():\n",
        "  side = float(input(\"Enter the length of the side: \"))\n",
        "  return side * side \n",
        "\n",
        "def calculate_rectangle_area():\n",
        "  length = float(input(\"Enter the length of the rectangle: \"))\n",
        "  width = float(input(\"Enter the width of the rectangle: \"))\n",
        "  return length * width\n",
        "\n",
        "def calculate_circle_area():\n",
        "  radius = float(input(\"Enter the radius of the circle: \"))\n",
        "  return math.pi * radius ** 2\n",
        "\n",
        "# getting the shape name \n",
        "def get_shape_name(tag):\n",
        "  if tag == 'S':\n",
        "    return \"Square\"\n",
        "  elif tag == 'R':\n",
        "    return \"Rectangle\"\n",
        "  elif tag == 'C':\n",
        "    return \"Circle\"\n",
        "  else:\n",
        "    return None\n",
        "\n",
        "# This program calculates the area of different shapes\n",
        "\n",
        "print(\"Welcome to the Shape Area Calculator!\")\n",
        "print(\"Please select a shape:\")\n",
        "print(\"S. Square\")\n",
        "print(\"R. Rectangle\")\n",
        "print(\"C. Circle\")\n",
        "\n",
        "# Prompt the user to choose a shape\n",
        "shape = input(\"Choose a shape ('S' for square, 'R' for rectangle, 'C' for circle): \")\n",
        "\n",
        "if shape not in ['S', 'R', 'C']:\n",
        "    print(\"Invalid choice. Please select a shape from S, R, C.\")\n",
        "else:\n",
        "    shape_name = get_shape_name(shape)\n",
        "    area = calculate_area(shape)\n",
        "    print(f\"The area of the {shape_name} is: {area}\")"
      ],
      "metadata": {
        "colab": {
          "base_uri": "https://localhost:8080/"
        },
        "id": "8CJzRy6bQ0FB",
        "outputId": "279bdc6e-36e1-43b8-9fe0-e92c73b9d827"
      },
      "execution_count": null,
      "outputs": [
        {
          "output_type": "stream",
          "name": "stdout",
          "text": [
            "Welcome to the Shape Area Calculator!\n",
            "Please select a shape:\n",
            "S. Square\n",
            "R. Rectangle\n",
            "C. Circle\n",
            "Choose a shape ('S' for square, 'R' for rectangle, 'C' for circle): r\n",
            "Invalid choice. Please select a shape from S, R, C.\n"
          ]
        }
      ]
    },
    {
      "cell_type": "code",
      "source": [
        "import math\n",
        "\n",
        "def calculate_area(shape):\n",
        "    if shape == 'S':\n",
        "        return calculate_square_area()\n",
        "    elif shape == 'R':\n",
        "        return calculate_rectangle_area()\n",
        "    elif shape == 'C':\n",
        "        return calculate_circle_area()\n",
        "    else:\n",
        "        return None\n",
        "\n",
        "def calculate_square_area():\n",
        "    side = float(input(\"Enter the length of the side: \"))\n",
        "    return side * side\n",
        "\n",
        "def calculate_rectangle_area():\n",
        "    length = float(input(\"Enter the length of the rectangle: \"))\n",
        "    width = float(input(\"Enter the width of the rectangle: \"))\n",
        "    return length * width\n",
        "\n",
        "def calculate_circle_area():\n",
        "    radius = float(input(\"Enter the radius of the circle: \"))\n",
        "    return math.pi * radius ** 2\n",
        "\n",
        "def get_shape_name(tag):\n",
        "    if tag == 'S':\n",
        "        return \"Square\"\n",
        "    elif tag == 'R':\n",
        "        return \"Rectangle\"\n",
        "    elif tag == 'C':\n",
        "        return \"Circle\"\n",
        "    else:\n",
        "        return None\n",
        "\n",
        "# Program execution starts here\n",
        "\n",
        "print(\"Welcome to the Shape Area Calculator!\")\n",
        "print(\"Please select a shape:\")\n",
        "print(\"S. Square\")\n",
        "print(\"R. Rectangle\")\n",
        "print(\"C. Circle\")\n",
        "\n",
        "# Prompt the user to choose a shape\n",
        "\n",
        "shape = input(\"Choose a shape ('S' for square, 'R' for rectangle, 'C' for circle): \")\n",
        "\n",
        "if shape not in ['S', 'R', 'C']:\n",
        "    print(\"Invalid choice. Please select a shape from S, R, C.\")\n",
        "else:\n",
        "    shape_name = get_shape_name(shape)\n",
        "    print(\"Calculating the area of\", shape_name)\n",
        "    area = calculate_area(shape)\n",
        "    if area is not None:\n",
        "        print(\"The area of the\", shape_name, \"is:\", area)\n",
        "    else:\n",
        "        print(\"Invalid shape!\")\n"
      ],
      "metadata": {
        "colab": {
          "base_uri": "https://localhost:8080/"
        },
        "id": "EZSfQviwSSQw",
        "outputId": "c17f3b2c-436f-4beb-82de-68eb1f2e3f5f"
      },
      "execution_count": null,
      "outputs": [
        {
          "output_type": "stream",
          "name": "stdout",
          "text": [
            "Welcome to the Shape Area Calculator!\n",
            "Please select a shape:\n",
            "S. Square\n",
            "R. Rectangle\n",
            "C. Circle\n",
            "Choose a shape ('S' for square, 'R' for rectangle, 'C' for circle): C\n",
            "Calculating the area of Circle\n",
            "Enter the radius of the circle: 6\n",
            "The area of the Circle is: 113.09733552923255\n"
          ]
        }
      ]
    }
  ]
}